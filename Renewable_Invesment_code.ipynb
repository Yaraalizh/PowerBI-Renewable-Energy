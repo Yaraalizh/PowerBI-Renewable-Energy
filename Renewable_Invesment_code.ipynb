{
 "cells": [
  {
   "cell_type": "code",
   "execution_count": 1,
   "metadata": {
    "id": "R6NHtLix_t6e"
   },
   "outputs": [],
   "source": [
    "import pandas as pd\n",
    "import numpy as np"
   ]
  },
  {
   "cell_type": "code",
   "execution_count": 10,
   "metadata": {
    "id": "orNbrYBGAqji"
   },
   "outputs": [
    {
     "data": {
      "text/html": [
       "<div>\n",
       "<style scoped>\n",
       "    .dataframe tbody tr th:only-of-type {\n",
       "        vertical-align: middle;\n",
       "    }\n",
       "\n",
       "    .dataframe tbody tr th {\n",
       "        vertical-align: top;\n",
       "    }\n",
       "\n",
       "    .dataframe thead th {\n",
       "        text-align: right;\n",
       "    }\n",
       "</style>\n",
       "<table border=\"1\" class=\"dataframe\">\n",
       "  <thead>\n",
       "    <tr style=\"text-align: right;\">\n",
       "      <th></th>\n",
       "      <th>Recipient Country/Area</th>\n",
       "      <th>ISO-code</th>\n",
       "      <th>Region</th>\n",
       "      <th>Project</th>\n",
       "      <th>Date</th>\n",
       "      <th>Investor</th>\n",
       "      <th>Technology</th>\n",
       "      <th>Asset Class</th>\n",
       "      <th>Amount (USD million)</th>\n",
       "      <th>Source</th>\n",
       "      <th>Year</th>\n",
       "      <th>Unnamed: 11</th>\n",
       "      <th>Unnamed: 12</th>\n",
       "    </tr>\n",
       "  </thead>\n",
       "  <tbody>\n",
       "    <tr>\n",
       "      <th>0</th>\n",
       "      <td>Afghanistan</td>\n",
       "      <td>AFG</td>\n",
       "      <td>Asia</td>\n",
       "      <td>Decentralized Power Supply through Renewable E...</td>\n",
       "      <td>1/1/2013</td>\n",
       "      <td>Others</td>\n",
       "      <td>Multiple renewables*</td>\n",
       "      <td>Grant</td>\n",
       "      <td>20.943934</td>\n",
       "      <td>2013 OECD Credit Report System (CRS) Database</td>\n",
       "      <td>2013</td>\n",
       "      <td>NaN</td>\n",
       "      <td>NaN</td>\n",
       "    </tr>\n",
       "    <tr>\n",
       "      <th>1</th>\n",
       "      <td>Chile</td>\n",
       "      <td>CHL</td>\n",
       "      <td>South America</td>\n",
       "      <td>Renewable Energy and Energy Efficiency Program...</td>\n",
       "      <td>1/1/2013</td>\n",
       "      <td>Others</td>\n",
       "      <td>Multiple renewables*</td>\n",
       "      <td>Grant</td>\n",
       "      <td>1.846095</td>\n",
       "      <td>2013 OECD Credit Report System (CRS) Database</td>\n",
       "      <td>2013</td>\n",
       "      <td>NaN</td>\n",
       "      <td>NaN</td>\n",
       "    </tr>\n",
       "    <tr>\n",
       "      <th>2</th>\n",
       "      <td>Palestine</td>\n",
       "      <td>PSE</td>\n",
       "      <td>Middle East</td>\n",
       "      <td>Assistance to Social and Development Projects ...</td>\n",
       "      <td>1/1/2013</td>\n",
       "      <td>Others</td>\n",
       "      <td>Solar energy</td>\n",
       "      <td>Grant</td>\n",
       "      <td>0.045062</td>\n",
       "      <td>2013 OECD Credit Report System (CRS) Database</td>\n",
       "      <td>2013</td>\n",
       "      <td>NaN</td>\n",
       "      <td>NaN</td>\n",
       "    </tr>\n",
       "    <tr>\n",
       "      <th>3</th>\n",
       "      <td>Romania</td>\n",
       "      <td>ROU</td>\n",
       "      <td>Europe</td>\n",
       "      <td>Smardan Wind Project</td>\n",
       "      <td>1/1/2013</td>\n",
       "      <td>EBRD</td>\n",
       "      <td>Wind energy</td>\n",
       "      <td>Loan</td>\n",
       "      <td>68.327399</td>\n",
       "      <td>http://www.ebrd.com/work-with-us/projects/psd/...</td>\n",
       "      <td>2013</td>\n",
       "      <td>NaN</td>\n",
       "      <td>NaN</td>\n",
       "    </tr>\n",
       "    <tr>\n",
       "      <th>4</th>\n",
       "      <td>Brazil</td>\n",
       "      <td>BRA</td>\n",
       "      <td>South America</td>\n",
       "      <td>Dos Arcas Wind Project</td>\n",
       "      <td>1/2/2013</td>\n",
       "      <td>BNDES</td>\n",
       "      <td>Wind energy</td>\n",
       "      <td>Loan</td>\n",
       "      <td>23.235377</td>\n",
       "      <td>Online database</td>\n",
       "      <td>2013</td>\n",
       "      <td>NaN</td>\n",
       "      <td>NaN</td>\n",
       "    </tr>\n",
       "    <tr>\n",
       "      <th>...</th>\n",
       "      <td>...</td>\n",
       "      <td>...</td>\n",
       "      <td>...</td>\n",
       "      <td>...</td>\n",
       "      <td>...</td>\n",
       "      <td>...</td>\n",
       "      <td>...</td>\n",
       "      <td>...</td>\n",
       "      <td>...</td>\n",
       "      <td>...</td>\n",
       "      <td>...</td>\n",
       "      <td>...</td>\n",
       "      <td>...</td>\n",
       "    </tr>\n",
       "    <tr>\n",
       "      <th>4799</th>\n",
       "      <td>Bosnia Herzg</td>\n",
       "      <td>BIH</td>\n",
       "      <td>Europe</td>\n",
       "      <td>Installation of geothermal heating in a school...</td>\n",
       "      <td>12/28/2017</td>\n",
       "      <td>Others</td>\n",
       "      <td>Geothermal energy</td>\n",
       "      <td>Grant</td>\n",
       "      <td>0.190965</td>\n",
       "      <td>2017 OECD Credit Report System (CRS) Database</td>\n",
       "      <td>2017</td>\n",
       "      <td>NaN</td>\n",
       "      <td>NaN</td>\n",
       "    </tr>\n",
       "    <tr>\n",
       "      <th>4800</th>\n",
       "      <td>Bosnia Herzg</td>\n",
       "      <td>BIH</td>\n",
       "      <td>Europe</td>\n",
       "      <td>Support of energy self sufficiency of minority...</td>\n",
       "      <td>12/28/2017</td>\n",
       "      <td>Others</td>\n",
       "      <td>Solar energy</td>\n",
       "      <td>Grant</td>\n",
       "      <td>0.027486</td>\n",
       "      <td>2017 OECD Credit Report System (CRS) Database</td>\n",
       "      <td>2017</td>\n",
       "      <td>NaN</td>\n",
       "      <td>NaN</td>\n",
       "    </tr>\n",
       "    <tr>\n",
       "      <th>4801</th>\n",
       "      <td>Brazil</td>\n",
       "      <td>BRA</td>\n",
       "      <td>South America</td>\n",
       "      <td>EOLICA SERRA DA BABILONIA XII S.A</td>\n",
       "      <td>12/28/2017</td>\n",
       "      <td>BNDES</td>\n",
       "      <td>Wind energy</td>\n",
       "      <td>Loan</td>\n",
       "      <td>31.276596</td>\n",
       "      <td>Online database</td>\n",
       "      <td>2017</td>\n",
       "      <td>NaN</td>\n",
       "      <td>NaN</td>\n",
       "    </tr>\n",
       "    <tr>\n",
       "      <th>4802</th>\n",
       "      <td>China</td>\n",
       "      <td>CHN</td>\n",
       "      <td>Asia</td>\n",
       "      <td>Ea Energianalyse</td>\n",
       "      <td>12/28/2017</td>\n",
       "      <td>Others</td>\n",
       "      <td>Multiple renewables*</td>\n",
       "      <td>Private Development Finance</td>\n",
       "      <td>0.289753</td>\n",
       "      <td>2017 OECD Credit Report System (CRS) Database</td>\n",
       "      <td>2017</td>\n",
       "      <td>NaN</td>\n",
       "      <td>NaN</td>\n",
       "    </tr>\n",
       "    <tr>\n",
       "      <th>4803</th>\n",
       "      <td>Other Africa</td>\n",
       "      <td>XAF</td>\n",
       "      <td>Africa</td>\n",
       "      <td>Funding for scientist exchanges, grants</td>\n",
       "      <td>12/28/2017</td>\n",
       "      <td>Others</td>\n",
       "      <td>Multiple renewables*</td>\n",
       "      <td>Grant</td>\n",
       "      <td>0.002887</td>\n",
       "      <td>2017 OECD Credit Report System (CRS) Database</td>\n",
       "      <td>2017</td>\n",
       "      <td>NaN</td>\n",
       "      <td>NaN</td>\n",
       "    </tr>\n",
       "  </tbody>\n",
       "</table>\n",
       "<p>4804 rows × 13 columns</p>\n",
       "</div>"
      ],
      "text/plain": [
       "     Recipient Country/Area ISO-code         Region  \\\n",
       "0               Afghanistan      AFG           Asia   \n",
       "1                     Chile      CHL  South America   \n",
       "2                 Palestine      PSE    Middle East   \n",
       "3                   Romania      ROU         Europe   \n",
       "4                    Brazil      BRA  South America   \n",
       "...                     ...      ...            ...   \n",
       "4799           Bosnia Herzg      BIH         Europe   \n",
       "4800           Bosnia Herzg      BIH         Europe   \n",
       "4801                 Brazil      BRA  South America   \n",
       "4802                  China      CHN           Asia   \n",
       "4803           Other Africa      XAF         Africa   \n",
       "\n",
       "                                                Project        Date Investor  \\\n",
       "0     Decentralized Power Supply through Renewable E...    1/1/2013   Others   \n",
       "1     Renewable Energy and Energy Efficiency Program...    1/1/2013   Others   \n",
       "2     Assistance to Social and Development Projects ...    1/1/2013   Others   \n",
       "3                                  Smardan Wind Project    1/1/2013     EBRD   \n",
       "4                                Dos Arcas Wind Project    1/2/2013    BNDES   \n",
       "...                                                 ...         ...      ...   \n",
       "4799  Installation of geothermal heating in a school...  12/28/2017   Others   \n",
       "4800  Support of energy self sufficiency of minority...  12/28/2017   Others   \n",
       "4801                  EOLICA SERRA DA BABILONIA XII S.A  12/28/2017    BNDES   \n",
       "4802                                   Ea Energianalyse  12/28/2017   Others   \n",
       "4803            Funding for scientist exchanges, grants  12/28/2017   Others   \n",
       "\n",
       "                Technology                  Asset Class  Amount (USD million)  \\\n",
       "0     Multiple renewables*                        Grant             20.943934   \n",
       "1     Multiple renewables*                        Grant              1.846095   \n",
       "2             Solar energy                        Grant              0.045062   \n",
       "3              Wind energy                         Loan             68.327399   \n",
       "4              Wind energy                         Loan             23.235377   \n",
       "...                    ...                          ...                   ...   \n",
       "4799     Geothermal energy                        Grant              0.190965   \n",
       "4800          Solar energy                        Grant              0.027486   \n",
       "4801           Wind energy                         Loan             31.276596   \n",
       "4802  Multiple renewables*  Private Development Finance              0.289753   \n",
       "4803  Multiple renewables*                        Grant              0.002887   \n",
       "\n",
       "                                                 Source  Year  Unnamed: 11  \\\n",
       "0         2013 OECD Credit Report System (CRS) Database  2013          NaN   \n",
       "1         2013 OECD Credit Report System (CRS) Database  2013          NaN   \n",
       "2         2013 OECD Credit Report System (CRS) Database  2013          NaN   \n",
       "3     http://www.ebrd.com/work-with-us/projects/psd/...  2013          NaN   \n",
       "4                                       Online database  2013          NaN   \n",
       "...                                                 ...   ...          ...   \n",
       "4799      2017 OECD Credit Report System (CRS) Database  2017          NaN   \n",
       "4800      2017 OECD Credit Report System (CRS) Database  2017          NaN   \n",
       "4801                                    Online database  2017          NaN   \n",
       "4802      2017 OECD Credit Report System (CRS) Database  2017          NaN   \n",
       "4803      2017 OECD Credit Report System (CRS) Database  2017          NaN   \n",
       "\n",
       "      Unnamed: 12  \n",
       "0             NaN  \n",
       "1             NaN  \n",
       "2             NaN  \n",
       "3             NaN  \n",
       "4             NaN  \n",
       "...           ...  \n",
       "4799          NaN  \n",
       "4800          NaN  \n",
       "4801          NaN  \n",
       "4802          NaN  \n",
       "4803          NaN  \n",
       "\n",
       "[4804 rows x 13 columns]"
      ]
     },
     "execution_count": 10,
     "metadata": {},
     "output_type": "execute_result"
    }
   ],
   "source": [
    "Renewable_investment = pd.read_csv('Renewable Investment.csv')\n",
    "Renewable_investment"
   ]
  },
  {
   "cell_type": "code",
   "execution_count": 11,
   "metadata": {
    "id": "LsK5ZWTUA6Ni"
   },
   "outputs": [],
   "source": [
    "Renewable_investment.drop_duplicates(inplace=True)"
   ]
  },
  {
   "cell_type": "code",
   "execution_count": 12,
   "metadata": {
    "colab": {
     "base_uri": "https://localhost:8080/"
    },
    "id": "jfAHPRpBG_r4",
    "outputId": "3d02f6eb-7273-40e9-9b76-230de4b50cec"
   },
   "outputs": [
    {
     "name": "stdout",
     "output_type": "stream",
     "text": [
      "<class 'pandas.core.frame.DataFrame'>\n",
      "RangeIndex: 4804 entries, 0 to 4803\n",
      "Data columns (total 13 columns):\n",
      " #   Column                  Non-Null Count  Dtype  \n",
      "---  ------                  --------------  -----  \n",
      " 0   Recipient Country/Area  4804 non-null   object \n",
      " 1   ISO-code                4804 non-null   object \n",
      " 2   Region                  4804 non-null   object \n",
      " 3   Project                 4735 non-null   object \n",
      " 4   Date                    4804 non-null   object \n",
      " 5   Investor                4804 non-null   object \n",
      " 6   Technology              4804 non-null   object \n",
      " 7   Asset Class             4804 non-null   object \n",
      " 8   Amount (USD million)    4804 non-null   float64\n",
      " 9   Source                  4804 non-null   object \n",
      " 10  Year                    4804 non-null   int64  \n",
      " 11  Unnamed: 11             0 non-null      float64\n",
      " 12  Unnamed: 12             0 non-null      float64\n",
      "dtypes: float64(3), int64(1), object(9)\n",
      "memory usage: 488.0+ KB\n"
     ]
    }
   ],
   "source": [
    "Renewable_investment.info()"
   ]
  },
  {
   "cell_type": "code",
   "execution_count": 13,
   "metadata": {
    "id": "uHcMhbRmH36x"
   },
   "outputs": [],
   "source": [
    "# Drop columns 11 and 12 by their index\n",
    "Renewable_investment.drop(Renewable_investment.columns[[11, 12]], axis=1, inplace=True)"
   ]
  },
  {
   "cell_type": "code",
   "execution_count": 14,
   "metadata": {
    "colab": {
     "base_uri": "https://localhost:8080/"
    },
    "id": "YstyPCXcIlcy",
    "outputId": "b0bf5400-2ae3-452b-e167-6c2c33e86b4e"
   },
   "outputs": [
    {
     "name": "stdout",
     "output_type": "stream",
     "text": [
      "<class 'pandas.core.frame.DataFrame'>\n",
      "RangeIndex: 4804 entries, 0 to 4803\n",
      "Data columns (total 11 columns):\n",
      " #   Column                  Non-Null Count  Dtype  \n",
      "---  ------                  --------------  -----  \n",
      " 0   Recipient Country/Area  4804 non-null   object \n",
      " 1   ISO-code                4804 non-null   object \n",
      " 2   Region                  4804 non-null   object \n",
      " 3   Project                 4735 non-null   object \n",
      " 4   Date                    4804 non-null   object \n",
      " 5   Investor                4804 non-null   object \n",
      " 6   Technology              4804 non-null   object \n",
      " 7   Asset Class             4804 non-null   object \n",
      " 8   Amount (USD million)    4804 non-null   float64\n",
      " 9   Source                  4804 non-null   object \n",
      " 10  Year                    4804 non-null   int64  \n",
      "dtypes: float64(1), int64(1), object(9)\n",
      "memory usage: 413.0+ KB\n"
     ]
    }
   ],
   "source": [
    "Renewable_investment.info()"
   ]
  },
  {
   "cell_type": "code",
   "execution_count": 15,
   "metadata": {
    "colab": {
     "base_uri": "https://localhost:8080/"
    },
    "id": "ZWllpj5pBd0R",
    "outputId": "88420171-55b3-4bff-fa49-0ad2e5cfcf49"
   },
   "outputs": [
    {
     "name": "stdout",
     "output_type": "stream",
     "text": [
      "Recipient Country/Area     0\n",
      "ISO-code                   0\n",
      "Region                     0\n",
      "Project                   69\n",
      "Date                       0\n",
      "Investor                   0\n",
      "Technology                 0\n",
      "Asset Class                0\n",
      "Amount (USD million)       0\n",
      "Source                     0\n",
      "Year                       0\n",
      "dtype: int64\n"
     ]
    }
   ],
   "source": [
    "null_counts = Renewable_investment.isnull().sum()\n",
    "\n",
    "# Display the counts of null values\n",
    "print(null_counts)"
   ]
  },
  {
   "cell_type": "code",
   "execution_count": 18,
   "metadata": {
    "colab": {
     "base_uri": "https://localhost:8080/"
    },
    "id": "CfA5WQAtWGRq",
    "outputId": "11cd8fdb-87e3-4f37-9b25-209f58fec687"
   },
   "outputs": [],
   "source": [
    "Renewable_investment['Project'].fillna('Unknown', inplace=True)"
   ]
  },
  {
   "cell_type": "code",
   "execution_count": 19,
   "metadata": {
    "colab": {
     "base_uri": "https://localhost:8080/"
    },
    "id": "u_9otbIfWSqx",
    "outputId": "0aacc1e9-ce6f-4486-f391-8fddf5265494"
   },
   "outputs": [
    {
     "name": "stdout",
     "output_type": "stream",
     "text": [
      "Recipient Country/Area    0\n",
      "ISO-code                  0\n",
      "Region                    0\n",
      "Project                   0\n",
      "Date                      0\n",
      "Investor                  0\n",
      "Technology                0\n",
      "Asset Class               0\n",
      "Amount (USD million)      0\n",
      "Source                    0\n",
      "Year                      0\n",
      "dtype: int64\n"
     ]
    }
   ],
   "source": [
    "null_counts = Renewable_investment.isnull().sum()\n",
    "\n",
    "# Display the counts of null values\n",
    "print(null_counts)"
   ]
  },
  {
   "cell_type": "code",
   "execution_count": 20,
   "metadata": {
    "id": "jZSuCYiAGceW"
   },
   "outputs": [],
   "source": [
    "Renewable_investment.to_csv('Cleaned_Renewable_Investment.csv', index=False)\n"
   ]
  },
  {
   "cell_type": "code",
   "execution_count": null,
   "metadata": {},
   "outputs": [],
   "source": []
  }
 ],
 "metadata": {
  "colab": {
   "provenance": []
  },
  "kernelspec": {
   "display_name": "Python 3 (ipykernel)",
   "language": "python",
   "name": "python3"
  },
  "language_info": {
   "codemirror_mode": {
    "name": "ipython",
    "version": 3
   },
   "file_extension": ".py",
   "mimetype": "text/x-python",
   "name": "python",
   "nbconvert_exporter": "python",
   "pygments_lexer": "ipython3",
   "version": "3.12.4"
  }
 },
 "nbformat": 4,
 "nbformat_minor": 4
}
