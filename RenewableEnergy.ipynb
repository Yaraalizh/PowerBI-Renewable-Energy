{
 "cells": [
  {
   "cell_type": "code",
   "execution_count": 4,
   "id": "9845c010-b735-439d-af50-5576a5a522f9",
   "metadata": {},
   "outputs": [],
   "source": [
    "import numpy as np\n",
    "import pandas as pd"
   ]
  },
  {
   "cell_type": "code",
   "execution_count": 16,
   "id": "447f5d53-20c3-448d-9219-dcf3767efdfd",
   "metadata": {},
   "outputs": [
    {
     "data": {
      "text/html": [
       "<div>\n",
       "<style scoped>\n",
       "    .dataframe tbody tr th:only-of-type {\n",
       "        vertical-align: middle;\n",
       "    }\n",
       "\n",
       "    .dataframe tbody tr th {\n",
       "        vertical-align: top;\n",
       "    }\n",
       "\n",
       "    .dataframe thead th {\n",
       "        text-align: right;\n",
       "    }\n",
       "</style>\n",
       "<table border=\"1\" class=\"dataframe\">\n",
       "  <thead>\n",
       "    <tr style=\"text-align: right;\">\n",
       "      <th></th>\n",
       "      <th>Region</th>\n",
       "      <th>Country</th>\n",
       "      <th>ISO Code</th>\n",
       "      <th>RE or Non-RE</th>\n",
       "      <th>Main Technology</th>\n",
       "      <th>Technologies</th>\n",
       "      <th>Year</th>\n",
       "      <th>Electricity Capacity (MW)</th>\n",
       "      <th>Electricity Generation (GWh)</th>\n",
       "    </tr>\n",
       "  </thead>\n",
       "  <tbody>\n",
       "    <tr>\n",
       "      <th>0</th>\n",
       "      <td>Africa</td>\n",
       "      <td>Algeria</td>\n",
       "      <td>DZA</td>\n",
       "      <td>Non-Renewable</td>\n",
       "      <td>Fossil fuels</td>\n",
       "      <td>Fossil fuels</td>\n",
       "      <td>2000</td>\n",
       "      <td>5630.01</td>\n",
       "      <td>24954.17</td>\n",
       "    </tr>\n",
       "    <tr>\n",
       "      <th>1</th>\n",
       "      <td>Africa</td>\n",
       "      <td>Algeria</td>\n",
       "      <td>DZA</td>\n",
       "      <td>Non-Renewable</td>\n",
       "      <td>Fossil fuels</td>\n",
       "      <td>Fossil fuels</td>\n",
       "      <td>2001</td>\n",
       "      <td>5626.50</td>\n",
       "      <td>26187.50</td>\n",
       "    </tr>\n",
       "    <tr>\n",
       "      <th>2</th>\n",
       "      <td>Africa</td>\n",
       "      <td>Algeria</td>\n",
       "      <td>DZA</td>\n",
       "      <td>Non-Renewable</td>\n",
       "      <td>Fossil fuels</td>\n",
       "      <td>Fossil fuels</td>\n",
       "      <td>2002</td>\n",
       "      <td>6062.01</td>\n",
       "      <td>27345.30</td>\n",
       "    </tr>\n",
       "    <tr>\n",
       "      <th>3</th>\n",
       "      <td>Africa</td>\n",
       "      <td>Algeria</td>\n",
       "      <td>DZA</td>\n",
       "      <td>Non-Renewable</td>\n",
       "      <td>Fossil fuels</td>\n",
       "      <td>Fossil fuels</td>\n",
       "      <td>2003</td>\n",
       "      <td>6184.24</td>\n",
       "      <td>28927.10</td>\n",
       "    </tr>\n",
       "    <tr>\n",
       "      <th>4</th>\n",
       "      <td>Africa</td>\n",
       "      <td>Algeria</td>\n",
       "      <td>DZA</td>\n",
       "      <td>Non-Renewable</td>\n",
       "      <td>Fossil fuels</td>\n",
       "      <td>Fossil fuels</td>\n",
       "      <td>2004</td>\n",
       "      <td>6476.24</td>\n",
       "      <td>30633.60</td>\n",
       "    </tr>\n",
       "    <tr>\n",
       "      <th>...</th>\n",
       "      <td>...</td>\n",
       "      <td>...</td>\n",
       "      <td>...</td>\n",
       "      <td>...</td>\n",
       "      <td>...</td>\n",
       "      <td>...</td>\n",
       "      <td>...</td>\n",
       "      <td>...</td>\n",
       "      <td>...</td>\n",
       "    </tr>\n",
       "    <tr>\n",
       "      <th>21421</th>\n",
       "      <td>South and Central America</td>\n",
       "      <td>Venezuela</td>\n",
       "      <td>VEN</td>\n",
       "      <td>Renewable</td>\n",
       "      <td>Wind energy</td>\n",
       "      <td>Onshore wind energy</td>\n",
       "      <td>2015</td>\n",
       "      <td>71.28</td>\n",
       "      <td>88.30</td>\n",
       "    </tr>\n",
       "    <tr>\n",
       "      <th>21422</th>\n",
       "      <td>South and Central America</td>\n",
       "      <td>Venezuela</td>\n",
       "      <td>VEN</td>\n",
       "      <td>Renewable</td>\n",
       "      <td>Wind energy</td>\n",
       "      <td>Onshore wind energy</td>\n",
       "      <td>2016</td>\n",
       "      <td>71.28</td>\n",
       "      <td>88.30</td>\n",
       "    </tr>\n",
       "    <tr>\n",
       "      <th>21423</th>\n",
       "      <td>South and Central America</td>\n",
       "      <td>Venezuela</td>\n",
       "      <td>VEN</td>\n",
       "      <td>Renewable</td>\n",
       "      <td>Wind energy</td>\n",
       "      <td>Onshore wind energy</td>\n",
       "      <td>2017</td>\n",
       "      <td>71.28</td>\n",
       "      <td>88.30</td>\n",
       "    </tr>\n",
       "    <tr>\n",
       "      <th>21424</th>\n",
       "      <td>South and Central America</td>\n",
       "      <td>Venezuela</td>\n",
       "      <td>VEN</td>\n",
       "      <td>Renewable</td>\n",
       "      <td>Wind energy</td>\n",
       "      <td>Onshore wind energy</td>\n",
       "      <td>2018</td>\n",
       "      <td>71.28</td>\n",
       "      <td>NaN</td>\n",
       "    </tr>\n",
       "    <tr>\n",
       "      <th>21425</th>\n",
       "      <td>South and Central America</td>\n",
       "      <td>Venezuela</td>\n",
       "      <td>VEN</td>\n",
       "      <td>Renewable</td>\n",
       "      <td>Wind energy</td>\n",
       "      <td>Onshore wind energy</td>\n",
       "      <td>2019</td>\n",
       "      <td>71.28</td>\n",
       "      <td>NaN</td>\n",
       "    </tr>\n",
       "  </tbody>\n",
       "</table>\n",
       "<p>21426 rows × 9 columns</p>\n",
       "</div>"
      ],
      "text/plain": [
       "                          Region    Country ISO Code   RE or Non-RE  \\\n",
       "0                         Africa    Algeria      DZA  Non-Renewable   \n",
       "1                         Africa    Algeria      DZA  Non-Renewable   \n",
       "2                         Africa    Algeria      DZA  Non-Renewable   \n",
       "3                         Africa    Algeria      DZA  Non-Renewable   \n",
       "4                         Africa    Algeria      DZA  Non-Renewable   \n",
       "...                          ...        ...      ...            ...   \n",
       "21421  South and Central America  Venezuela      VEN      Renewable   \n",
       "21422  South and Central America  Venezuela      VEN      Renewable   \n",
       "21423  South and Central America  Venezuela      VEN      Renewable   \n",
       "21424  South and Central America  Venezuela      VEN      Renewable   \n",
       "21425  South and Central America  Venezuela      VEN      Renewable   \n",
       "\n",
       "      Main Technology         Technologies  Year  Electricity Capacity (MW)  \\\n",
       "0        Fossil fuels         Fossil fuels  2000                    5630.01   \n",
       "1        Fossil fuels         Fossil fuels  2001                    5626.50   \n",
       "2        Fossil fuels         Fossil fuels  2002                    6062.01   \n",
       "3        Fossil fuels         Fossil fuels  2003                    6184.24   \n",
       "4        Fossil fuels         Fossil fuels  2004                    6476.24   \n",
       "...               ...                  ...   ...                        ...   \n",
       "21421     Wind energy  Onshore wind energy  2015                      71.28   \n",
       "21422     Wind energy  Onshore wind energy  2016                      71.28   \n",
       "21423     Wind energy  Onshore wind energy  2017                      71.28   \n",
       "21424     Wind energy  Onshore wind energy  2018                      71.28   \n",
       "21425     Wind energy  Onshore wind energy  2019                      71.28   \n",
       "\n",
       "       Electricity Generation (GWh)  \n",
       "0                          24954.17  \n",
       "1                          26187.50  \n",
       "2                          27345.30  \n",
       "3                          28927.10  \n",
       "4                          30633.60  \n",
       "...                             ...  \n",
       "21421                         88.30  \n",
       "21422                         88.30  \n",
       "21423                         88.30  \n",
       "21424                           NaN  \n",
       "21425                           NaN  \n",
       "\n",
       "[21426 rows x 9 columns]"
      ]
     },
     "execution_count": 16,
     "metadata": {},
     "output_type": "execute_result"
    }
   ],
   "source": [
    "renewable_energy =pd.read_csv(\"RenewableEnergySet.csv\")\n",
    "renewable_energy\n"
   ]
  },
  {
   "cell_type": "code",
   "execution_count": 17,
   "id": "40b321b3-ee49-4cd2-b96d-a78e34e9ee1b",
   "metadata": {},
   "outputs": [
    {
     "name": "stdout",
     "output_type": "stream",
     "text": [
      "<class 'pandas.core.frame.DataFrame'>\n",
      "RangeIndex: 21426 entries, 0 to 21425\n",
      "Data columns (total 9 columns):\n",
      " #   Column                        Non-Null Count  Dtype  \n",
      "---  ------                        --------------  -----  \n",
      " 0   Region                        21426 non-null  object \n",
      " 1   Country                       21426 non-null  object \n",
      " 2   ISO Code                      21426 non-null  object \n",
      " 3   RE or Non-RE                  21426 non-null  object \n",
      " 4   Main Technology               21426 non-null  object \n",
      " 5   Technologies                  21426 non-null  object \n",
      " 6   Year                          21426 non-null  int64  \n",
      " 7   Electricity Capacity (MW)     21135 non-null  float64\n",
      " 8   Electricity Generation (GWh)  18325 non-null  float64\n",
      "dtypes: float64(2), int64(1), object(6)\n",
      "memory usage: 1.5+ MB\n"
     ]
    }
   ],
   "source": [
    "renewable_energy.info()"
   ]
  },
  {
   "cell_type": "code",
   "execution_count": 74,
   "id": "8fa2c088-312c-41b9-9989-5413300d0424",
   "metadata": {},
   "outputs": [
    {
     "data": {
      "text/plain": [
       "0        False\n",
       "1        False\n",
       "2        False\n",
       "3        False\n",
       "4        False\n",
       "         ...  \n",
       "21421    False\n",
       "21422    False\n",
       "21423    False\n",
       "21424    False\n",
       "21425    False\n",
       "Length: 21426, dtype: bool"
      ]
     },
     "execution_count": 74,
     "metadata": {},
     "output_type": "execute_result"
    }
   ],
   "source": [
    "renewable_energy.duplicated()"
   ]
  },
  {
   "cell_type": "code",
   "execution_count": 20,
   "id": "53d87b02-70c7-4e68-b2e7-3d9c02225d62",
   "metadata": {},
   "outputs": [
    {
     "name": "stdout",
     "output_type": "stream",
     "text": [
      "Region                             0\n",
      "Country                            0\n",
      "ISO Code                           0\n",
      "RE or Non-RE                       0\n",
      "Main Technology                    0\n",
      "Technologies                       0\n",
      "Year                               0\n",
      "Electricity Capacity (MW)        291\n",
      "Electricity Generation (GWh)    3101\n",
      "dtype: int64\n"
     ]
    }
   ],
   "source": [
    "null_values = renewable_energy.isnull().sum()\n",
    "print(null_values)"
   ]
  },
  {
   "cell_type": "code",
   "execution_count": 30,
   "id": "97b5c85a-b2c5-45af-900f-00a636f55e05",
   "metadata": {},
   "outputs": [],
   "source": [
    "# Interpolate missing values in 'Electricity Generation (GWh)'\n",
    "renewable_energy['Electricity Generation (GWh)'] = renewable_energy['Electricity Generation (GWh)'].interpolate()\n",
    "renewable_energy['Electricity Capacity (MW)'] = renewable_energy['Electricity Capacity (MW)'].interpolate()"
   ]
  },
  {
   "cell_type": "code",
   "execution_count": 28,
   "id": "663f85d9-7242-47ae-8fff-9feb876b1f89",
   "metadata": {},
   "outputs": [
    {
     "name": "stdout",
     "output_type": "stream",
     "text": [
      "0\n"
     ]
    }
   ],
   "source": [
    "null_values_in_column =renewable_energy['Electricity Generation (GWh)'].isnull().sum()\n",
    "print(null_values_in_column)"
   ]
  },
  {
   "cell_type": "code",
   "execution_count": 31,
   "id": "a55f8391-7e78-4a31-b678-43aa027555b2",
   "metadata": {},
   "outputs": [
    {
     "name": "stdout",
     "output_type": "stream",
     "text": [
      "0\n"
     ]
    }
   ],
   "source": [
    "null_values_in_column =renewable_energy['Electricity Capacity (MW)'].isnull().sum()\n",
    "print(null_values_in_column)"
   ]
  },
  {
   "cell_type": "code",
   "execution_count": 32,
   "id": "957a9072-1798-4bcd-86cd-9b82e4ad6d50",
   "metadata": {},
   "outputs": [
    {
     "name": "stdout",
     "output_type": "stream",
     "text": [
      "Region                          0\n",
      "Country                         0\n",
      "ISO Code                        0\n",
      "RE or Non-RE                    0\n",
      "Main Technology                 0\n",
      "Technologies                    0\n",
      "Year                            0\n",
      "Electricity Capacity (MW)       0\n",
      "Electricity Generation (GWh)    0\n",
      "dtype: int64\n"
     ]
    }
   ],
   "source": [
    "null_values = renewable_energy.isnull().sum()\n",
    "print(null_values)"
   ]
  },
  {
   "cell_type": "code",
   "execution_count": 77,
   "id": "51b51cd4-adde-4b83-bb89-bc7b3bdcd5be",
   "metadata": {},
   "outputs": [
    {
     "name": "stdout",
     "output_type": "stream",
     "text": [
      "Cleaned data saved to: C:/Users/farah/case study1/Cleaned_RenewableEnergySet.csv\n"
     ]
    }
   ],
   "source": [
    "# Save the cleaned data to a new CSV file\n",
    "output_file = \"C:/Users/farah/case study1/Cleaned_RenewableEnergySet.csv\"\n",
    "renewable_energy.to_csv(output_file, index=False)\n"
   ]
  },
  {
   "cell_type": "code",
   "execution_count": null,
   "id": "c957ccc2-0b8e-4b19-8592-834966110418",
   "metadata": {},
   "outputs": [],
   "source": []
  }
 ],
 "metadata": {
  "kernelspec": {
   "display_name": "Python 3 (ipykernel)",
   "language": "python",
   "name": "python3"
  },
  "language_info": {
   "codemirror_mode": {
    "name": "ipython",
    "version": 3
   },
   "file_extension": ".py",
   "mimetype": "text/x-python",
   "name": "python",
   "nbconvert_exporter": "python",
   "pygments_lexer": "ipython3",
   "version": "3.12.4"
  }
 },
 "nbformat": 4,
 "nbformat_minor": 5
}
